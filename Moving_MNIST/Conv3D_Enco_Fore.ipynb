{
  "nbformat": 4,
  "nbformat_minor": 0,
  "metadata": {
    "colab": {
      "name": "Conv3D_EN_FO_MNIST.ipynb",
      "provenance": []
    },
    "kernelspec": {
      "name": "python3",
      "display_name": "Python 3"
    },
    "accelerator": "GPU"
  },
  "cells": [
    {
      "cell_type": "code",
      "metadata": {
        "id": "XdiwcHBwcvS6",
        "outputId": "328cf490-e5a9-435f-ba6c-70203fab78ee",
        "colab": {
          "base_uri": "https://localhost:8080/",
          "height": 34
        }
      },
      "source": [
        "from google.colab import drive\n",
        "drive.mount('/content/gdrive/')"
      ],
      "execution_count": 1,
      "outputs": [
        {
          "output_type": "stream",
          "text": [
            "Mounted at /content/gdrive/\n"
          ],
          "name": "stdout"
        }
      ]
    },
    {
      "cell_type": "code",
      "metadata": {
        "id": "Bm5_NZjrerPa",
        "outputId": "74a745bf-7dcb-4cfb-98b6-31a8d68c3bad",
        "colab": {
          "base_uri": "https://localhost:8080/",
          "height": 34
        }
      },
      "source": [
        "cd '/content/gdrive/My Drive/VIP_Project/MNIST'"
      ],
      "execution_count": 2,
      "outputs": [
        {
          "output_type": "stream",
          "text": [
            "/content/gdrive/My Drive/VIP_Project/MNIST\n"
          ],
          "name": "stdout"
        }
      ]
    },
    {
      "cell_type": "code",
      "metadata": {
        "id": "hyQnJafaeeEe"
      },
      "source": [
        "from tensorflow import keras\n",
        "from tensorflow.keras import layers\n",
        "import numpy as np\n",
        "import pylab as plt"
      ],
      "execution_count": 3,
      "outputs": []
    },
    {
      "cell_type": "code",
      "metadata": {
        "id": "DU8cHZUie6Rv",
        "outputId": "971961c0-eec4-4281-b1ba-1fa99c336891",
        "colab": {
          "base_uri": "https://localhost:8080/",
          "height": 34
        }
      },
      "source": [
        "num_epoch = 100\n",
        "batch_size = 1000 #50\n",
        "\n",
        "in_timesteps  = range(0,19)\n",
        "out_timesteps = range(1,20)\n",
        "\n",
        "# prepare data\n",
        "data = np.load(\"moving-mnist-2-tr-images.npy\" )\n",
        "\n",
        "# training set\n",
        "x_tr = data[0:10000, in_timesteps,  :, :]\n",
        "y_tr = data[0:10000, out_timesteps, :, :]\n",
        "x_tr = x_tr.reshape(x_tr.shape[0], len(in_timesteps),  64, 64, 1)\n",
        "y_tr = y_tr.reshape(y_tr.shape[0], len(out_timesteps), 64, 64, 1)\n",
        "tr_set = data[0:10000, :, :, :]\n",
        "\n",
        "# validation set\n",
        "x_te = data[10000:, in_timesteps,  :, :]\n",
        "y_te = data[10000:, out_timesteps, :, :]\n",
        "x_te = x_te.reshape(x_te.shape[0], len(in_timesteps),  64, 64, 1)\n",
        "y_te = y_te.reshape(y_te.shape[0], len(out_timesteps), 64, 64, 1)\n",
        "te_set = data[10000:, :, :, :]\n",
        "\n",
        "print (np.shape(x_tr), np.shape(y_tr), np.shape(x_te), np.shape(y_te))"
      ],
      "execution_count": 4,
      "outputs": [
        {
          "output_type": "stream",
          "text": [
            "(10000, 19, 64, 64, 1) (10000, 19, 64, 64, 1) (1000, 19, 64, 64, 1) (1000, 19, 64, 64, 1)\n"
          ],
          "name": "stdout"
        }
      ]
    },
    {
      "cell_type": "code",
      "metadata": {
        "id": "tvA7Lwr0c6xH"
      },
      "source": [
        "#Conv3D_EN_DE\n",
        "from keras.models import Sequential, Model\n",
        "from keras.layers import Input, Add, Conv2D, Conv3D, Concatenate, ConvLSTM2D, BatchNormalization, LeakyReLU, MaxPooling2D, UpSampling2D, TimeDistributed\n",
        "\n",
        "def mainmodel():\n",
        "  # Inputs\n",
        "  dtype='float32'  \n",
        "  contentInput = Input(shape=(None, 64, 64, 1), dtype=dtype)\n",
        "\n",
        "  #Encoding Network\n",
        "  x1 = Conv3D(filters=128, kernel_size=(5, 5, 5), activation=\"relu\", padding=\"same\")(contentInput)\n",
        "  x2 = Conv3D(filters=64, kernel_size=(5, 5, 5), activation=\"relu\", padding=\"same\")(x1)\n",
        "  x3 = Conv3D(filters=64, kernel_size=(5, 5, 5), activation=\"relu\", padding=\"same\")(x2)\n",
        "\n",
        "  #Forecasting Network\n",
        "  x4 = Conv3D(filters=128, kernel_size=(5, 5, 5), activation=\"relu\", padding=\"same\")(x1)\n",
        "  x5 = Conv3D(filters=64, kernel_size=(5, 5, 5), activation=\"relu\", padding=\"same\")(x2)\n",
        "  x6 = Conv3D(filters=64, kernel_size=(5, 5, 5), activation=\"relu\", padding=\"same\")(x3)\n",
        "\n",
        "  #Prediction Network\n",
        "  conc = Concatenate()([x4, x5, x6]) #\n",
        "  predictions = Conv3D(1, (5,5,5), activation='sigmoid', padding='same')(conc) #sigmoid original\n",
        "\n",
        "  model = Model(inputs=contentInput, outputs=predictions)\n",
        "  \n",
        "  model.compile(optimizer='adam', loss='binary_crossentropy')\n",
        "  return model"
      ],
      "execution_count": 5,
      "outputs": []
    },
    {
      "cell_type": "code",
      "metadata": {
        "id": "Zko3RaSytUdt",
        "outputId": "21e75f3d-8f2b-49fc-af40-3117e6ab826b",
        "colab": {
          "base_uri": "https://localhost:8080/",
          "height": 493
        }
      },
      "source": [
        "seq = mainmodel()\n",
        "#seq.load_weights('conv3d_shapes_checkpoint_generator') #Epoch 1\n",
        "seq.summary()"
      ],
      "execution_count": 6,
      "outputs": [
        {
          "output_type": "stream",
          "text": [
            "Model: \"functional_1\"\n",
            "__________________________________________________________________________________________________\n",
            "Layer (type)                    Output Shape         Param #     Connected to                     \n",
            "==================================================================================================\n",
            "input_1 (InputLayer)            [(None, None, 64, 64 0                                            \n",
            "__________________________________________________________________________________________________\n",
            "conv3d (Conv3D)                 (None, None, 64, 64, 16128       input_1[0][0]                    \n",
            "__________________________________________________________________________________________________\n",
            "conv3d_1 (Conv3D)               (None, None, 64, 64, 1024064     conv3d[0][0]                     \n",
            "__________________________________________________________________________________________________\n",
            "conv3d_2 (Conv3D)               (None, None, 64, 64, 512064      conv3d_1[0][0]                   \n",
            "__________________________________________________________________________________________________\n",
            "conv3d_3 (Conv3D)               (None, None, 64, 64, 2048128     conv3d[0][0]                     \n",
            "__________________________________________________________________________________________________\n",
            "conv3d_4 (Conv3D)               (None, None, 64, 64, 512064      conv3d_1[0][0]                   \n",
            "__________________________________________________________________________________________________\n",
            "conv3d_5 (Conv3D)               (None, None, 64, 64, 512064      conv3d_2[0][0]                   \n",
            "__________________________________________________________________________________________________\n",
            "concatenate (Concatenate)       (None, None, 64, 64, 0           conv3d_3[0][0]                   \n",
            "                                                                 conv3d_4[0][0]                   \n",
            "                                                                 conv3d_5[0][0]                   \n",
            "__________________________________________________________________________________________________\n",
            "conv3d_6 (Conv3D)               (None, None, 64, 64, 32001       concatenate[0][0]                \n",
            "==================================================================================================\n",
            "Total params: 4,656,513\n",
            "Trainable params: 4,656,513\n",
            "Non-trainable params: 0\n",
            "__________________________________________________________________________________________________\n"
          ],
          "name": "stdout"
        }
      ]
    },
    {
      "cell_type": "code",
      "metadata": {
        "id": "-bXzMortx7lX"
      },
      "source": [
        "def generator(X, y, batch_size):\n",
        "    while True:\n",
        "        for start in range(0, len(X), batch_size):\n",
        "            end = min(start + batch_size, len(X))\n",
        "            yield np.array(X[start:end]/255), np.array(y[start:end]/255)"
      ],
      "execution_count": 7,
      "outputs": []
    },
    {
      "cell_type": "code",
      "metadata": {
        "id": "jbhYkV6m1Otb"
      },
      "source": [
        "batch_size=12\n",
        "\n",
        "checkpoint_filepath = 'conv3D_EN_FO_MNIST'\n",
        "model_checkpoint_callback = keras.callbacks.ModelCheckpoint(\n",
        "    filepath=checkpoint_filepath,\n",
        "    save_weights_only=True,\n",
        "    monitor='val_loss',\n",
        "    save_best_only=True,\n",
        "    verbose=1\n",
        "  )\n",
        "\n",
        "history = seq.fit_generator(\n",
        "    generator(x_tr, y_tr, batch_size),\n",
        "    steps_per_epoch = len(x_tr)/batch_size,\n",
        "    epochs=5,\n",
        "    verbose=1,\n",
        "    validation_data=generator(x_te, y_te, batch_size),\n",
        "    validation_steps = len(x_te)/batch_size,\n",
        "    callbacks=[model_checkpoint_callback]\n",
        ")"
      ],
      "execution_count": null,
      "outputs": []
    },
    {
      "cell_type": "code",
      "metadata": {
        "id": "89ou0vNWGost"
      },
      "source": [
        "for sequence in range(5):\n",
        "    track = x_te[sequence, :20, ::, ::, ::]\n",
        "    y_prediction = seq.predict(track[np.newaxis])\n",
        "    #print(y_prediction.shape)\n",
        "    # ground truth\n",
        "    plt.figure(figsize=(20,10))\n",
        "    for i in range(20):\n",
        "        plt.subplot(1, 20, i+1)\n",
        "        plt.tick_params(\n",
        "        axis='both',       # changes apply to the x-axis\n",
        "        which='both',      # both major and minor ticks are affected\n",
        "        bottom='off',      # ticks along the bottom edge are off\n",
        "        top='off',         # ticks along the top edge are off\n",
        "        labelbottom='off', # labels along the bottom edge are off\n",
        "        labelleft='off')\n",
        "        plt.imshow(te_set[sequence,i,:,:,0], cmap='gray')\n",
        "\n",
        "    # prediction\n",
        "    plt.figure(figsize=(20,10))\n",
        "    plt.subplot(1,20,1)\n",
        "    plt.imshow(np.zeros((64,64)), cmap='gray')\n",
        "    for i in range(19):\n",
        "        plt.subplot(1, 20, i+2) \n",
        "        plt.tick_params(\n",
        "        axis='both',       # changes apply to the x-axis\n",
        "        which='both',      # both major and minor ticks are affected\n",
        "        bottom='off',      # ticks along the bottom edge are off\n",
        "        top='off',         # ticks along the top edge are off\n",
        "        labelbottom='off', # labels along the bottom edge are off\n",
        "        labelleft='off')\n",
        "        plt.imshow(y_prediction[0,i,:,:,0], cmap='gray')"
      ],
      "execution_count": null,
      "outputs": []
    },
    {
      "cell_type": "code",
      "metadata": {
        "id": "NlhzRB0Dc0hR"
      },
      "source": [
        "from sklearn.metrics import mean_squared_error\n",
        "from sklearn.metrics import mean_absolute_error\n",
        "from skimage.metrics import structural_similarity as ssim\n",
        "from skimage import img_as_float32\n",
        "\n",
        "y_prediction = seq.predict(x_te[:, :20, ::, ::, ::])\n",
        "te_set = img_as_float32(te_set)\n",
        "batch_size=1000\n",
        "mse_total=0\n",
        "mae_total=0\n",
        "ssim_total=0\n",
        "\n",
        "mse=0\n",
        "mae=0\n",
        "ssim_v=0\n",
        "\n",
        "for i in range(batch_size):\n",
        "  for j in range(19):\n",
        "    mse_total += mean_squared_error(te_set[i,j+1,:,:,0],y_prediction[i,j,:,:,0])\n",
        "    mae_total += mean_absolute_error(te_set[i,j+1,:,:,0],y_prediction[i,j,:,:,0])\n",
        "    ssim_total += ssim(te_set[i,j+1,:,:,0],y_prediction[i,j,:,:,0],data_range=y_prediction[i,j,:,:,0].max() - y_prediction[i,j,:,:,0].min())\n",
        "\n",
        "mse = mse_total/(batch_size*19)\n",
        "mae = mae_total/(batch_size*19)\n",
        "ssim_v = ssim_total/(batch_size*19)\n",
        "print('MSE: ',mse)\n",
        "print('MAE: ',mae)\n",
        "print('SSIM: ',ssim_v)"
      ],
      "execution_count": null,
      "outputs": []
    },
    {
      "cell_type": "code",
      "metadata": {
        "id": "xi2eu0AgLb34"
      },
      "source": [
        ""
      ],
      "execution_count": null,
      "outputs": []
    }
  ]
}